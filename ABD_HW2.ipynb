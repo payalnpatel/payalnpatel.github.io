{
  "nbformat": 4,
  "nbformat_minor": 0,
  "metadata": {
    "colab": {
      "name": "ABD-HW2.ipynb",
      "provenance": [],
      "toc_visible": true,
      "authorship_tag": "ABX9TyPsyTGa1J2zWQgkZBQe36lE",
      "include_colab_link": true
    },
    "kernelspec": {
      "name": "python3",
      "display_name": "Python 3"
    }
  },
  "cells": [
    {
      "cell_type": "markdown",
      "metadata": {
        "id": "view-in-github",
        "colab_type": "text"
      },
      "source": [
        "<a href=\"https://colab.research.google.com/github/payalnpatel/payalnpatel.github.io/blob/master/ABD_HW2.ipynb\" target=\"_parent\"><img src=\"https://colab.research.google.com/assets/colab-badge.svg\" alt=\"Open In Colab\"/></a>"
      ]
    },
    {
      "cell_type": "markdown",
      "metadata": {
        "id": "gv7BZFUhym3P",
        "colab_type": "text"
      },
      "source": [
        "### **Install PySpark Dependencies**"
      ]
    },
    {
      "cell_type": "code",
      "metadata": {
        "id": "ZwJbWjZXyjC8",
        "colab_type": "code",
        "colab": {
          "base_uri": "https://localhost:8080/",
          "height": 211
        },
        "outputId": "853c4433-9abc-447b-df31-001eba607994"
      },
      "source": [
        "!rm spark-2.4.5-bin-hadoop2.7.tgz\n",
        "!wget --no-cookies --no-check-certificate https://downloads.apache.org/spark/spark-2.4.5/spark-2.4.5-bin-hadoop2.7.tgz\n",
        "!tar zxvf spark-2.4.5-bin-hadoop2.7.tgz\n",
        "!pip install -q findspark\n",
        "!pip install pyspark"
      ],
      "execution_count": 1,
      "outputs": [
        {
          "output_type": "stream",
          "text": [
            "\u001b[?25hCollecting py4j==0.10.7\n",
            "\u001b[?25l  Downloading https://files.pythonhosted.org/packages/e3/53/c737818eb9a7dc32a7cd4f1396e787bd94200c3997c72c1dbe028587bd76/py4j-0.10.7-py2.py3-none-any.whl (197kB)\n",
            "\r\u001b[K     |█▋                              | 10kB 18.5MB/s eta 0:00:01\r\u001b[K     |███▎                            | 20kB 25.8MB/s eta 0:00:01\r\u001b[K     |█████                           | 30kB 28.8MB/s eta 0:00:01\r\u001b[K     |██████▋                         | 40kB 32.8MB/s eta 0:00:01\r\u001b[K     |████████▎                       | 51kB 35.8MB/s eta 0:00:01\r\u001b[K     |██████████                      | 61kB 39.3MB/s eta 0:00:01\r\u001b[K     |███████████▋                    | 71kB 41.4MB/s eta 0:00:01\r\u001b[K     |█████████████▎                  | 81kB 42.6MB/s eta 0:00:01\r\u001b[K     |███████████████                 | 92kB 44.4MB/s eta 0:00:01\r\u001b[K     |████████████████▋               | 102kB 46.1MB/s eta 0:00:01\r\u001b[K     |██████████████████▎             | 112kB 46.1MB/s eta 0:00:01\r\u001b[K     |████████████████████            | 122kB 46.1MB/s eta 0:00:01\r\u001b[K     |█████████████████████▋          | 133kB 46.1MB/s eta 0:00:01\r\u001b[K     |███████████████████████▎        | 143kB 46.1MB/s eta 0:00:01\r\u001b[K     |█████████████████████████       | 153kB 46.1MB/s eta 0:00:01\r\u001b[K     |██████████████████████████▋     | 163kB 46.1MB/s eta 0:00:01\r\u001b[K     |████████████████████████████▎   | 174kB 46.1MB/s eta 0:00:01\r\u001b[K     |██████████████████████████████  | 184kB 46.1MB/s eta 0:00:01\r\u001b[K     |███████████████████████████████▋| 194kB 46.1MB/s eta 0:00:01\r\u001b[K     |████████████████████████████████| 204kB 46.1MB/s \n",
            "\u001b[?25hBuilding wheels for collected packages: pyspark\n",
            "  Building wheel for pyspark (setup.py) ... \u001b[?25l\u001b[?25hdone\n",
            "  Created wheel for pyspark: filename=pyspark-2.4.5-py2.py3-none-any.whl size=218257927 sha256=cd02e54c6cb1b6ac00a11c31b8a83ec4efd1e9cd999aa3a333fdd498da58171a\n",
            "  Stored in directory: /root/.cache/pip/wheels/bf/db/04/61d66a5939364e756eb1c1be4ec5bdce6e04047fc7929a3c3c\n",
            "Successfully built pyspark\n",
            "Installing collected packages: py4j, pyspark\n",
            "Successfully installed py4j-0.10.7 pyspark-2.4.5\n"
          ],
          "name": "stdout"
        }
      ]
    },
    {
      "cell_type": "markdown",
      "metadata": {
        "id": "k8oTlvjhyzlI",
        "colab_type": "text"
      },
      "source": [
        "### **Load Data**"
      ]
    },
    {
      "cell_type": "code",
      "metadata": {
        "id": "g4opuQeNyxa2",
        "colab_type": "code",
        "colab": {
          "base_uri": "https://localhost:8080/",
          "height": 228
        },
        "outputId": "2937178d-40f7-4b36-8dfc-6ca9f65599b0"
      },
      "source": [
        "!wget https://raw.githubusercontent.com/zaratsian/Datasets/master/banking_attrition.csv"
      ],
      "execution_count": 2,
      "outputs": [
        {
          "output_type": "stream",
          "text": [
            "--2020-03-26 17:03:01--  https://raw.githubusercontent.com/zaratsian/Datasets/master/banking_attrition.csv\n",
            "Resolving raw.githubusercontent.com (raw.githubusercontent.com)... 151.101.0.133, 151.101.64.133, 151.101.128.133, ...\n",
            "Connecting to raw.githubusercontent.com (raw.githubusercontent.com)|151.101.0.133|:443... connected.\n",
            "HTTP request sent, awaiting response... 200 OK\n",
            "Length: 4021593 (3.8M) [text/plain]\n",
            "Saving to: ‘banking_attrition.csv’\n",
            "\n",
            "\rbanking_attrition.c   0%[                    ]       0  --.-KB/s               \rbanking_attrition.c 100%[===================>]   3.83M  --.-KB/s    in 0.1s    \n",
            "\n",
            "2020-03-26 17:03:01 (36.6 MB/s) - ‘banking_attrition.csv’ saved [4021593/4021593]\n",
            "\n"
          ],
          "name": "stdout"
        }
      ]
    },
    {
      "cell_type": "code",
      "metadata": {
        "id": "CNSQJIriASdc",
        "colab_type": "code",
        "colab": {
          "base_uri": "https://localhost:8080/",
          "height": 228
        },
        "outputId": "83e44313-5355-4363-cda1-7a711ac9d451"
      },
      "source": [
        "!wget https://raw.githubusercontent.com/payalnpatel/Data/master/banking_attrition.csv"
      ],
      "execution_count": 33,
      "outputs": [
        {
          "output_type": "stream",
          "text": [
            "--2020-03-26 18:01:07--  https://raw.githubusercontent.com/payalnpatel/Data/master/banking_attrition.csv\n",
            "Resolving raw.githubusercontent.com (raw.githubusercontent.com)... 151.101.0.133, 151.101.64.133, 151.101.128.133, ...\n",
            "Connecting to raw.githubusercontent.com (raw.githubusercontent.com)|151.101.0.133|:443... connected.\n",
            "HTTP request sent, awaiting response... 200 OK\n",
            "Length: 4021593 (3.8M) [text/plain]\n",
            "Saving to: ‘banking_attrition.csv.1’\n",
            "\n",
            "\rbanking_attrition.c   0%[                    ]       0  --.-KB/s               \rbanking_attrition.c 100%[===================>]   3.83M  --.-KB/s    in 0.1s    \n",
            "\n",
            "2020-03-26 18:01:08 (36.9 MB/s) - ‘banking_attrition.csv.1’ saved [4021593/4021593]\n",
            "\n"
          ],
          "name": "stdout"
        }
      ]
    },
    {
      "cell_type": "markdown",
      "metadata": {
        "id": "fu0mCFARzGhR",
        "colab_type": "text"
      },
      "source": [
        "### **Import Python/Spark Libraries**"
      ]
    },
    {
      "cell_type": "code",
      "metadata": {
        "id": "35BpO7IdzJW7",
        "colab_type": "code",
        "colab": {}
      },
      "source": [
        "\n",
        "import os\n",
        "os.environ[\"JAVA_HOME\"]  = \"/usr/lib/jvm/java-8-openjdk-amd64\"\n",
        "os.environ[\"SPARK_HOME\"] = \"/content/spark-2.4.5-bin-hadoop2.7\"\n",
        "\n",
        "import datetime, time\n",
        "import re, random, sys\n",
        "\n",
        "# Note - Not all of these will be used, but I've added them for your reference as a \"getting started\"\n",
        "from pyspark import SparkContext\n",
        "from pyspark.sql import SparkSession\n",
        "from pyspark.sql.types import StructType, StructField, ArrayType, IntegerType, StringType, FloatType, LongType, DateType\n",
        "from pyspark.sql.functions import struct, array, lit, monotonically_increasing_id, col, expr, when, concat, udf, split, size, lag, count, isnull\n",
        "from pyspark.sql import Window\n",
        "from pyspark.ml.linalg import Vectors\n",
        "from pyspark.ml.regression import GBTRegressor, LinearRegression, GeneralizedLinearRegression, RandomForestRegressor\n",
        "from pyspark.ml.classification import GBTClassifier, RandomForestClassifier\n",
        "from pyspark.ml.feature import VectorIndexer, VectorAssembler, StringIndexer, IndexToString\n",
        "from pyspark.ml.evaluation import RegressionEvaluator\n",
        "from pyspark.ml import Pipeline, PipelineModel\n",
        "from pyspark.ml.evaluation import MulticlassClassificationEvaluator, RegressionEvaluator"
      ],
      "execution_count": 0,
      "outputs": []
    },
    {
      "cell_type": "code",
      "metadata": {
        "id": "I41vhUz17vCX",
        "colab_type": "code",
        "colab": {}
      },
      "source": [
        "import matplotlib.pyplot as plt"
      ],
      "execution_count": 0,
      "outputs": []
    },
    {
      "cell_type": "markdown",
      "metadata": {
        "id": "ABcOH8h9zMc8",
        "colab_type": "text"
      },
      "source": [
        "### **Create Spark Session**"
      ]
    },
    {
      "cell_type": "code",
      "metadata": {
        "id": "W3UR1CExzO_-",
        "colab_type": "code",
        "colab": {}
      },
      "source": [
        "spark = SparkSession.builder.appName(\"Spark ML Assignment\").master(\"local[*]\").getOrCreate()"
      ],
      "execution_count": 0,
      "outputs": []
    },
    {
      "cell_type": "markdown",
      "metadata": {
        "id": "VrIGqT60zXgd",
        "colab_type": "text"
      },
      "source": [
        "### **Load CSV Data Into Spark DataFrame**"
      ]
    },
    {
      "cell_type": "code",
      "metadata": {
        "id": "mnimBS9uzcrG",
        "colab_type": "code",
        "colab": {}
      },
      "source": [
        "rawdata = spark.read.csv('banking_attrition.csv', header=True, inferSchema=True)"
      ],
      "execution_count": 0,
      "outputs": []
    },
    {
      "cell_type": "code",
      "metadata": {
        "id": "RWjb2eM24SJw",
        "colab_type": "code",
        "colab": {
          "base_uri": "https://localhost:8080/",
          "height": 69
        },
        "outputId": "18063df8-7c11-488d-d28a-340a82aba5ef"
      },
      "source": [
        "print( '\\nTotal Records: ' + str(rawdata.count()) + '\\n')"
      ],
      "execution_count": 18,
      "outputs": [
        {
          "output_type": "stream",
          "text": [
            "\n",
            "Total Records: 45211\n",
            "\n"
          ],
          "name": "stdout"
        }
      ]
    },
    {
      "cell_type": "code",
      "metadata": {
        "id": "a-gRU-v65Kek",
        "colab_type": "code",
        "colab": {
          "base_uri": "https://localhost:8080/",
          "height": 87
        },
        "outputId": "9b1abe57-a0d8-4b26-cd96-949574e8a34b"
      },
      "source": [
        "print('\\r\\nTotal Records: ' + str(rawdata.count()) + '\\r\\n\\r\\n')"
      ],
      "execution_count": 17,
      "outputs": [
        {
          "output_type": "stream",
          "text": [
            "\r\n",
            "Total Records: 45211\r\n",
            "\r\n",
            "\n"
          ],
          "name": "stdout"
        }
      ]
    },
    {
      "cell_type": "code",
      "metadata": {
        "id": "UuWiCu7j6wdy",
        "colab_type": "code",
        "colab": {
          "base_uri": "https://localhost:8080/",
          "height": 277
        },
        "outputId": "848255ae-168a-431c-c4d5-9f3cea2ab70d"
      },
      "source": [
        "rawdata.columns"
      ],
      "execution_count": 21,
      "outputs": [
        {
          "output_type": "execute_result",
          "data": {
            "text/plain": [
              "['uid',\n",
              " 'age',\n",
              " 'age_group',\n",
              " 'profession',\n",
              " 'marital_status',\n",
              " 'education',\n",
              " 'default',\n",
              " 'housing',\n",
              " 'loan',\n",
              " 'gender',\n",
              " 'balance',\n",
              " 'membership',\n",
              " 'charges',\n",
              " 'customer_contacts',\n",
              " 'attrition']"
            ]
          },
          "metadata": {
            "tags": []
          },
          "execution_count": 21
        }
      ]
    },
    {
      "cell_type": "markdown",
      "metadata": {
        "id": "uL0pf7ck5rRS",
        "colab_type": "text"
      },
      "source": [
        "### **Data Exploration**"
      ]
    },
    {
      "cell_type": "code",
      "metadata": {
        "id": "_hf0wd3k5uER",
        "colab_type": "code",
        "colab": {
          "base_uri": "https://localhost:8080/",
          "height": 72
        },
        "outputId": "92980acb-ad80-43aa-a290-b97feb694b9f"
      },
      "source": [
        "rawdata.groupBy('gender').avg().collect()"
      ],
      "execution_count": 22,
      "outputs": [
        {
          "output_type": "execute_result",
          "data": {
            "text/plain": [
              "[Row(gender='female', avg(uid)=1022624.9466671876, avg(age)=40.27791669922638, avg(charges)=142.11881691021333, avg(customer_contacts)=2.0891224505743535, avg(attrition)=0.31288583261701963),\n",
              " Row(gender='male', avg(uid)=1022581.2805729724, avg(age)=42.08854564918183, avg(charges)=99.83208441657746, avg(customer_contacts)=1.7560279349543764, avg(attrition)=0.11173981750522506)]"
            ]
          },
          "metadata": {
            "tags": []
          },
          "execution_count": 22
        }
      ]
    },
    {
      "cell_type": "code",
      "metadata": {
        "id": "JjEP8wiI63hL",
        "colab_type": "code",
        "colab": {
          "base_uri": "https://localhost:8080/",
          "height": 139
        },
        "outputId": "b878a974-d452-4d3a-b0df-bac0630f5f67"
      },
      "source": [
        "rawdata.groupBy(\"gender\").count().show()"
      ],
      "execution_count": 23,
      "outputs": [
        {
          "output_type": "stream",
          "text": [
            "+------+-----+\n",
            "|gender|count|\n",
            "+------+-----+\n",
            "|female|25594|\n",
            "|  male|19617|\n",
            "+------+-----+\n",
            "\n"
          ],
          "name": "stdout"
        }
      ]
    },
    {
      "cell_type": "code",
      "metadata": {
        "id": "_UjJlR377Bgt",
        "colab_type": "code",
        "colab": {
          "base_uri": "https://localhost:8080/",
          "height": 156
        },
        "outputId": "34dbe636-6572-4e01-a640-72cd4c8431aa"
      },
      "source": [
        "rawdata.groupBy(\"membership\").count().show()"
      ],
      "execution_count": 24,
      "outputs": [
        {
          "output_type": "stream",
          "text": [
            "+----------+-----+\n",
            "|membership|count|\n",
            "+----------+-----+\n",
            "|    silver|12840|\n",
            "|      gold| 9969|\n",
            "|  platinum|22402|\n",
            "+----------+-----+\n",
            "\n"
          ],
          "name": "stdout"
        }
      ]
    },
    {
      "cell_type": "code",
      "metadata": {
        "id": "T4kgu5jS7GBc",
        "colab_type": "code",
        "colab": {
          "base_uri": "https://localhost:8080/",
          "height": 354
        },
        "outputId": "3a52ff41-2dbb-4fc6-f1b7-08530dd4d97c"
      },
      "source": [
        "#Species breakdown in training dataset  \n",
        "membership_dist = rawdata.groupBy('membership').count().orderBy('count').toPandas()\n",
        "plt.clf()\n",
        "labels = [f\"{membership}\" for membership in membership_dist['membership']]\n",
        "obs = [num_obs for num_obs in membership_dist['count']]\n",
        "colors = ['#00876c', '#89c079', '#fff392']\n",
        "fig, ax = plt.subplots(figsize=(8,5))\n",
        "w,a,b = ax.pie(obs, autopct='%1.1f%%', colors=colors)\n",
        "plt.title('Membership Breakdown')\n",
        "ax.legend(w, labels, title=\"Membership\", loc=\"center left\", bbox_to_anchor=(1, 0, 0.5, 1))\n",
        "%matplot plt"
      ],
      "execution_count": 28,
      "outputs": [
        {
          "output_type": "stream",
          "text": [
            "UsageError: Line magic function `%matplot` not found.\n"
          ],
          "name": "stderr"
        },
        {
          "output_type": "display_data",
          "data": {
            "text/plain": [
              "<Figure size 432x288 with 0 Axes>"
            ]
          },
          "metadata": {
            "tags": []
          }
        },
        {
          "output_type": "display_data",
          "data": {
            "image/png": "[encoded data removed]",
            "text/plain": [
              "<Figure size 576x360 with 1 Axes>"
            ]
          },
          "metadata": {
            "tags": []
          }
        }
      ]
    },
    {
      "cell_type": "markdown",
      "metadata": {
        "id": "b7DyX3Gf5ucZ",
        "colab_type": "text"
      },
      "source": [
        "### **Split the Spark DataFrame Into Train and Test**"
      ]
    },
    {
      "cell_type": "code",
      "metadata": {
        "id": "ACB8hBsQ50RC",
        "colab_type": "code",
        "colab": {}
      },
      "source": [
        "train, test   = rawdata.randomSplit([0.8, 0.2], seed=12345)"
      ],
      "execution_count": 0,
      "outputs": []
    },
    {
      "cell_type": "code",
      "metadata": {
        "id": "6XiJflam8amo",
        "colab_type": "code",
        "colab": {
          "base_uri": "https://localhost:8080/",
          "height": 35
        },
        "outputId": "38ad1e26-5f74-47f4-a1c7-fb0d34a385ac"
      },
      "source": [
        "train.count()"
      ],
      "execution_count": 30,
      "outputs": [
        {
          "output_type": "execute_result",
          "data": {
            "text/plain": [
              "36030"
            ]
          },
          "metadata": {
            "tags": []
          },
          "execution_count": 30
        }
      ]
    },
    {
      "cell_type": "code",
      "metadata": {
        "id": "-7SUtMoh8eQR",
        "colab_type": "code",
        "colab": {
          "base_uri": "https://localhost:8080/",
          "height": 35
        },
        "outputId": "dd225451-9e3e-42ef-d04c-0efd3b53c522"
      },
      "source": [
        "test.count()"
      ],
      "execution_count": 32,
      "outputs": [
        {
          "output_type": "execute_result",
          "data": {
            "text/plain": [
              "9181"
            ]
          },
          "metadata": {
            "tags": []
          },
          "execution_count": 32
        }
      ]
    },
    {
      "cell_type": "markdown",
      "metadata": {
        "id": "vByTAnqK50hI",
        "colab_type": "text"
      },
      "source": [
        "### **Feature Engineering**"
      ]
    },
    {
      "cell_type": "code",
      "metadata": {
        "id": "WTznBGBS53gI",
        "colab_type": "code",
        "colab": {}
      },
      "source": [
        ""
      ],
      "execution_count": 0,
      "outputs": []
    },
    {
      "cell_type": "markdown",
      "metadata": {
        "id": "dfu3lHQQ53pk",
        "colab_type": "text"
      },
      "source": [
        "### **Fit/Train ML Model**"
      ]
    },
    {
      "cell_type": "code",
      "metadata": {
        "id": "OqDjcEuf56a9",
        "colab_type": "code",
        "colab": {}
      },
      "source": [
        ""
      ],
      "execution_count": 0,
      "outputs": []
    },
    {
      "cell_type": "markdown",
      "metadata": {
        "id": "gdx8tOt756j0",
        "colab_type": "text"
      },
      "source": [
        "### **Make Predictions**"
      ]
    },
    {
      "cell_type": "code",
      "metadata": {
        "id": "ceBF0eTU59Sh",
        "colab_type": "code",
        "colab": {}
      },
      "source": [
        ""
      ],
      "execution_count": 0,
      "outputs": []
    },
    {
      "cell_type": "markdown",
      "metadata": {
        "id": "cjyDtNWL59cZ",
        "colab_type": "text"
      },
      "source": [
        "### **Evaluate Model Against Test DataFrame**"
      ]
    },
    {
      "cell_type": "code",
      "metadata": {
        "id": "wE0bNKjs6Aj-",
        "colab_type": "code",
        "colab": {}
      },
      "source": [
        ""
      ],
      "execution_count": 0,
      "outputs": []
    }
  ]
}